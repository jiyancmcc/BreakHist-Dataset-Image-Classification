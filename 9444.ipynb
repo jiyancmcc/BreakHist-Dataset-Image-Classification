{
 "cells": [
  {
   "cell_type": "markdown",
   "id": "53711a15",
   "metadata": {},
   "source": [
    "# Breast Cancer Histopathological Image Classification"
   ]
  },
  {
   "cell_type": "markdown",
   "id": "ff29c5c7",
   "metadata": {},
   "source": [
    "Group Name：kun"
   ]
  },
  {
   "cell_type": "markdown",
   "id": "3af1c17f",
   "metadata": {},
   "source": [
    "Name|Student ID\n",
    ":-:|:-:\n",
    "Yan Ji| Z5450568\n",
    "Zhongxu Wang|Z5434584\n",
    "Yifan Li|Z5450315\n",
    "Yan An|Z5424090\n",
    "Yi Yang|Z5381301"
   ]
  },
  {
   "cell_type": "markdown",
   "id": "c5488848",
   "metadata": {},
   "source": [
    "## 1. Introduction"
   ]
  },
  {
   "cell_type": "markdown",
   "id": "f7a56ae4",
   "metadata": {},
   "source": [
    "### 1.1 Background"
   ]
  },
  {
   "cell_type": "markdown",
   "id": "4d81961b",
   "metadata": {},
   "source": [
    "Medical imaging and machine learning have benefited from each other's increased support in recent years as science and technology have progressed, offering advanced methods for detecting and treating several diseases. One of the most common cancers in women, breast cancer, is severely detrimental to their health. Pathologists must do several laborious manual examinations as part of the standard clinical examination procedure, which could be more conducive to timely disease control and can not improve treatment effectiveness. However, combining classical pathology with machine learning can increase diagnostic accuracy, timeliness, and reliability while providing more data resources and analytic tools for medical education."
   ]
  },
  {
   "cell_type": "markdown",
   "id": "4288f473",
   "metadata": {},
   "source": [
    "## 1.2 Motivation"
   ]
  },
  {
   "cell_type": "markdown",
   "id": "45a4402e",
   "metadata": {},
   "source": [
    "The purpose of the research project was to increase the effectiveness and accuracy of breast cancer diagnosis. Despite the tremendous advances in medical imaging today, diagnosing breast cancer in humans at the histological level remains challenging due to the micro-nature and complexity of the tissue structure. Pathologists can rapidly and correctly identify breast cancer by using machine learning, especially deep learning, on histopathological images. Early and precise diagnosis might significantly enhance patient outcomes.\n"
   ]
  },
  {
   "cell_type": "code",
   "execution_count": null,
   "id": "a081bda0",
   "metadata": {},
   "outputs": [],
   "source": []
  }
 ],
 "metadata": {
  "kernelspec": {
   "display_name": "Python 3 (ipykernel)",
   "language": "python",
   "name": "python3"
  },
  "language_info": {
   "codemirror_mode": {
    "name": "ipython",
    "version": 3
   },
   "file_extension": ".py",
   "mimetype": "text/x-python",
   "name": "python",
   "nbconvert_exporter": "python",
   "pygments_lexer": "ipython3",
   "version": "3.11.5"
  }
 },
 "nbformat": 4,
 "nbformat_minor": 5
}
